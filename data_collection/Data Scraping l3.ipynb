{
 "cells": [
  {
   "cell_type": "code",
   "execution_count": 5,
   "metadata": {},
   "outputs": [],
   "source": [
    "import json\n",
    "import csv\n",
    "import requests\n",
    "\n",
    "# Function to generate URLs\n",
    "def generate_urls():\n",
    "    urls_with_book_nums = []\n",
    "    for y in ['6b', '175b']:\n",
    "        for x in range(268):  # Range is from 0 to 267\n",
    "            url = f\"https://openaipublic.blob.core.windows.net/recursive-book-summ/website/data/booksum_book_trees/{y}/{x}/all.json\"\n",
    "            urls_with_book_nums.append((url, y, x))\n",
    "    return urls_with_book_nums\n",
    "\n",
    "# Function to scrape data from a URL\n",
    "def scrape_data(url):\n",
    "    response = requests.get(url)\n",
    "    if response.status_code == 200:\n",
    "        return json.loads(response.content)\n",
    "    else:\n",
    "        return None\n"
   ]
  },
  {
   "cell_type": "code",
   "execution_count": 6,
   "metadata": {},
   "outputs": [],
   "source": [
    "# Specify the desired level\n",
    "desired_level = 3\n",
    "\n",
    "# Iterate over each URL and extract data\n",
    "extracted_data = []\n",
    "for url, model_size, book_num in generate_urls():\n",
    "    data = scrape_data(url)\n",
    "    if data:\n",
    "        for level, entries in data.items():\n",
    "            if int(level) == desired_level:\n",
    "                chunk_index = 0\n",
    "                for entry in entries:\n",
    "                    extracted_data.append({\n",
    "                        \"book_text\": entry[\"text\"],\n",
    "                        \"depth_3_summary\": entry[\"summary\"], \n",
    "                        \"model_size\": model_size,\n",
    "                        \"book_num\": book_num, \n",
    "                        \"document_index\": chunk_index\n",
    "                    })\n",
    "                    chunk_index += 1\n",
    "                    \n",
    "# Write the extracted data to a CSV file\n",
    "with open('data/extracted_data.csv', 'w', newline='', encoding='utf-8') as csvfile:\n",
    "    fieldnames = ['book_text', 'depth_3_summary', \"model_size\", \"book_num\", \"document_index\"]\n",
    "    writer = csv.DictWriter(csvfile, fieldnames=fieldnames)\n",
    "\n",
    "    writer.writeheader()\n",
    "    for entry in extracted_data:\n",
    "        writer.writerow(entry)"
   ]
  },
  {
   "cell_type": "code",
   "execution_count": null,
   "metadata": {},
   "outputs": [],
   "source": []
  }
 ],
 "metadata": {
  "kernelspec": {
   "display_name": "Python 3 (ipykernel)",
   "language": "python",
   "name": "python3"
  },
  "language_info": {
   "codemirror_mode": {
    "name": "ipython",
    "version": 3
   },
   "file_extension": ".py",
   "mimetype": "text/x-python",
   "name": "python",
   "nbconvert_exporter": "python",
   "pygments_lexer": "ipython3",
   "version": "3.8.2"
  }
 },
 "nbformat": 4,
 "nbformat_minor": 4
}
