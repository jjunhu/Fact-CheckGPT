{
 "cells": [
  {
   "cell_type": "code",
   "execution_count": 1,
   "metadata": {},
   "outputs": [],
   "source": [
    "import json\n",
    "from collections import Counter\n",
    "\n",
    "def analyze_results(csv):\n",
    "    # Load the results from the output file\n",
    "    with open(csv, 'r') as f:\n",
    "        results = json.load(f)\n",
    "\n",
    "    # Initialize counters\n",
    "    total_claims = len(results)\n",
    "    correct_predictions = 0\n",
    "    true_correct = 0\n",
    "    target_in_top_10 = 0\n",
    "    correct_gold_entailment = 0\n",
    "    gold_entailment_differs = 0\n",
    "    entailment_counter = Counter()\n",
    "\n",
    "    # Iterate over the results to calculate the metrics\n",
    "    for result in results:\n",
    "        claim = result['claim']\n",
    "        retrieved_passages = result['retrieved_passages']\n",
    "        target_passage = result['target_passage']\n",
    "        gold_entailment = result['gold_entailment']\n",
    "        target_entailment = result['target_entailment']\n",
    "\n",
    "        entailment_counter[target_entailment] += 1\n",
    "        \n",
    "        predicted_entailment = \"entailment\" if any(p['entailment'] == \"entailment\" for p in retrieved_passages) else \"contradiction\"\n",
    "        gold_entailment = \"entailment\" if gold_entailment == \"entailment\" else \"contradiction\"\n",
    "        \n",
    "        # Calculate accuracy for claim entailment\n",
    "        if predicted_entailment == target_entailment:\n",
    "            correct_predictions += 1\n",
    "        \n",
    "        # Check if target passage is in the top 10 retrieved passages\n",
    "        if any(p['passage'] == target_passage for p in retrieved_passages):\n",
    "            target_in_top_10 += 1\n",
    "            if (gold_entailment == predicted_entailment) and (predicted_entailment == target_entailment):\n",
    "                true_correct += 1\n",
    "\n",
    "        # Calculate accuracy for gold entailment\n",
    "        if gold_entailment == target_entailment:\n",
    "            correct_gold_entailment += 1\n",
    "        \n",
    "        # Check if gold entailment differs from the claim results\n",
    "        if gold_entailment != predicted_entailment:\n",
    "            gold_entailment_differs += 1\n",
    "\n",
    "    # Calculate the overall accuracy\n",
    "    accuracy = correct_predictions / total_claims\n",
    "    true_accuracy = true_correct / total_claims\n",
    "    percentage_target_in_top_10 = target_in_top_10 / total_claims\n",
    "    accuracy_gold_entailment = correct_gold_entailment / total_claims\n",
    "    percentage_gold_entailment_differs = gold_entailment_differs / total_claims\n",
    "\n",
    "    # Print the results\n",
    "    print(f\"Overall Accuracy: {accuracy * 100:.2f}%\")\n",
    "    print(f\"True Accuracy (correct because gold passage is in retrieved and used to get the correct entailment): {true_accuracy * 100:.2f}%\")\n",
    "    print(f\"Percentage of Time Target Passage is in Top 10: {percentage_target_in_top_10 * 100:.2f}%\")\n",
    "    print(f\"Accuracy for Gold Entailment: {accuracy_gold_entailment * 100:.2f}%\")\n",
    "    print(f\"Percentage of Time Gold Entailment Differs from Claim Results: {percentage_gold_entailment_differs * 100:.2f}% \\n\")\n",
    "\n",
    "    print(\"Count of Each Target Entailment:\")\n",
    "    for entailment, count in entailment_counter.items():\n",
    "        print(f\"{entailment}: {count}\")\n",
    "    print(\"\\n\")\n",
    "        \n",
    "    gold_entailment_counter = Counter()\n",
    "    retrieved_entailment_counter = Counter()\n",
    "\n",
    "    # Iterate over the results to update the entailment counters\n",
    "    for result in results:\n",
    "        gold_entailment = result['gold_entailment']\n",
    "        gold_entailment_counter[gold_entailment] += 1\n",
    "\n",
    "        for passage in result['retrieved_passages']:\n",
    "            passage_entailment = passage['entailment']\n",
    "            retrieved_entailment_counter[passage_entailment] += 1\n",
    "\n",
    "    # Print the count of each gold entailment type\n",
    "    print(\"Count of Each Gold Entailment Type:\")\n",
    "    for entailment, count in gold_entailment_counter.items():\n",
    "        print(f\"{entailment}: {count}\")\n",
    "\n",
    "    # Print the count of each retrieved passage entailment type\n",
    "    print(\"\\nCount of Each Retrieved Passage Entailment Type (average per top 10 claims):\")\n",
    "    for entailment, count in retrieved_entailment_counter.items():\n",
    "        print(f\"{entailment}: {count/total_claims}\")"
   ]
  },
  {
   "cell_type": "code",
   "execution_count": 30,
   "metadata": {},
   "outputs": [
    {
     "name": "stdout",
     "output_type": "stream",
     "text": [
      "Overall Accuracy: 23.06%\n",
      "True Accuracy (correct because gold passage is in retrieved and used to get the correct entailment): 2.49%\n",
      "Percentage of Time Target Passage is in Top 10: 17.46%\n",
      "Accuracy for Gold Entailment: 22.85%\n",
      "Percentage of Time Gold Entailment Differs from Claim Results: 1.60% \n",
      "\n",
      "Count of Each Target Entailment:\n",
      "entailment: 8941\n",
      "contradiction: 2593\n",
      "\n",
      "\n",
      "Count of Each Gold Entailment Type:\n",
      "neutral: 9180\n",
      "contradiction: 2303\n",
      "entailment: 51\n",
      "\n",
      "Count of Each Retrieved Passage Entailment Type (average per top 10 claims):\n",
      "neutral: 7.797208253858159\n",
      "contradiction: 2.187619212762268\n",
      "entailment: 0.015172533379573435\n"
     ]
    }
   ],
   "source": [
    "analyze_results(\"results_dpr_bert.json\")"
   ]
  },
  {
   "cell_type": "code",
   "execution_count": 31,
   "metadata": {},
   "outputs": [
    {
     "name": "stdout",
     "output_type": "stream",
     "text": [
      "Overall Accuracy: 43.32%\n",
      "True Accuracy (correct because gold passage is in retrieved and used to get the correct entailment): 13.24%\n",
      "Percentage of Time Target Passage is in Top 10: 17.46%\n",
      "Accuracy for Gold Entailment: 72.78%\n",
      "Percentage of Time Gold Entailment Differs from Claim Results: 46.51% \n",
      "\n",
      "Count of Each Target Entailment:\n",
      "entailment: 8941\n",
      "contradiction: 2593\n",
      "\n",
      "\n",
      "Count of Each Gold Entailment Type:\n",
      "entailment: 7358\n",
      "neutral: 2486\n",
      "contradiction: 1690\n",
      "\n",
      "Count of Each Retrieved Passage Entailment Type (average per top 10 claims):\n",
      "contradiction: 3.2231662909658403\n",
      "neutral: 6.249523148950928\n",
      "entailment: 0.5273105600832322\n"
     ]
    }
   ],
   "source": [
    "analyze_results(\"results_dpr_bart.json\")"
   ]
  },
  {
   "cell_type": "code",
   "execution_count": 32,
   "metadata": {},
   "outputs": [
    {
     "name": "stdout",
     "output_type": "stream",
     "text": [
      "Overall Accuracy: 23.24%\n",
      "True Accuracy (correct because gold passage is in retrieved and used to get the correct entailment): 6.57%\n",
      "Percentage of Time Target Passage is in Top 10: 41.61%\n",
      "Accuracy for Gold Entailment: 22.85%\n",
      "Percentage of Time Gold Entailment Differs from Claim Results: 2.14% \n",
      "\n",
      "Count of Each Target Entailment:\n",
      "entailment: 8941\n",
      "contradiction: 2593\n",
      "\n",
      "\n",
      "Count of Each Gold Entailment Type:\n",
      "neutral: 9180\n",
      "contradiction: 2303\n",
      "entailment: 51\n",
      "\n",
      "Count of Each Retrieved Passage Entailment Type (average per top 10 claims):\n",
      "neutral: 7.519420842725854\n",
      "contradiction: 2.4594243107334837\n",
      "entailment: 0.021154846540662388\n"
     ]
    }
   ],
   "source": [
    "analyze_results(\"results_contriever_bert.json\")"
   ]
  },
  {
   "cell_type": "code",
   "execution_count": 33,
   "metadata": {},
   "outputs": [
    {
     "name": "stdout",
     "output_type": "stream",
     "text": [
      "Overall Accuracy: 62.68%\n",
      "True Accuracy (correct because gold passage is in retrieved and used to get the correct entailment): 30.87%\n",
      "Percentage of Time Target Passage is in Top 10: 41.61%\n",
      "Accuracy for Gold Entailment: 72.78%\n",
      "Percentage of Time Gold Entailment Differs from Claim Results: 31.53% \n",
      "\n",
      "Count of Each Target Entailment:\n",
      "entailment: 8941\n",
      "contradiction: 2593\n",
      "\n",
      "\n",
      "Count of Each Gold Entailment Type:\n",
      "entailment: 7358\n",
      "neutral: 2486\n",
      "contradiction: 1690\n",
      "\n",
      "Count of Each Retrieved Passage Entailment Type (average per top 10 claims):\n",
      "entailment: 1.224206693254725\n",
      "neutral: 4.926651638633605\n",
      "contradiction: 3.84914166811167\n"
     ]
    }
   ],
   "source": [
    "analyze_results(\"results_contriever_bart.json\")"
   ]
  },
  {
   "cell_type": "code",
   "execution_count": 34,
   "metadata": {},
   "outputs": [
    {
     "name": "stdout",
     "output_type": "stream",
     "text": [
      "Overall Accuracy: 23.63%\n",
      "True Accuracy (correct because gold passage is in retrieved and used to get the correct entailment): 6.88%\n",
      "Percentage of Time Target Passage is in Top 10: 45.10%\n",
      "Accuracy for Gold Entailment: 22.85%\n",
      "Percentage of Time Gold Entailment Differs from Claim Results: 2.42% \n",
      "\n",
      "Count of Each Target Entailment:\n",
      "entailment: 8941\n",
      "contradiction: 2593\n",
      "\n",
      "\n",
      "Count of Each Gold Entailment Type:\n",
      "neutral: 9180\n",
      "contradiction: 2303\n",
      "entailment: 51\n",
      "\n",
      "Count of Each Retrieved Passage Entailment Type (average per top 10 claims):\n",
      "neutral: 7.859285590428299\n",
      "contradiction: 2.115918155019941\n",
      "entailment: 0.024796254551760013\n"
     ]
    }
   ],
   "source": [
    "analyze_results(\"results_bm25_bert.json\")"
   ]
  },
  {
   "cell_type": "code",
   "execution_count": 35,
   "metadata": {},
   "outputs": [
    {
     "name": "stdout",
     "output_type": "stream",
     "text": [
      "Overall Accuracy: 66.25%\n",
      "True Accuracy (correct because gold passage is in retrieved and used to get the correct entailment): 34.09%\n",
      "Percentage of Time Target Passage is in Top 10: 45.10%\n",
      "Accuracy for Gold Entailment: 72.78%\n",
      "Percentage of Time Gold Entailment Differs from Claim Results: 29.77% \n",
      "\n",
      "Count of Each Target Entailment:\n",
      "entailment: 8941\n",
      "contradiction: 2593\n",
      "\n",
      "\n",
      "Count of Each Gold Entailment Type:\n",
      "entailment: 7358\n",
      "neutral: 2486\n",
      "contradiction: 1690\n",
      "\n",
      "Count of Each Retrieved Passage Entailment Type (average per top 10 claims):\n",
      "entailment: 1.289491936882261\n",
      "neutral: 5.025229755505462\n",
      "contradiction: 3.685278307612277\n"
     ]
    }
   ],
   "source": [
    "analyze_results(\"results_bm25_bart.json\")"
   ]
  },
  {
   "cell_type": "code",
   "execution_count": 4,
   "metadata": {},
   "outputs": [
    {
     "name": "stdout",
     "output_type": "stream",
     "text": [
      "Overall Accuracy: 73.94%\n",
      "True Accuracy (correct because gold passage is in retrieved and used to get the correct entailment): 64.15%\n",
      "Percentage of Time Target Passage is in Top 10: 94.24%\n",
      "Accuracy for Gold Entailment: 72.78%\n",
      "Percentage of Time Gold Entailment Differs from Claim Results: 13.24% \n",
      "\n",
      "Count of Each Target Entailment:\n",
      "entailment: 8941\n",
      "contradiction: 2593\n",
      "\n",
      "\n",
      "Count of Each Gold Entailment Type:\n",
      "entailment: 7358\n",
      "neutral: 2486\n",
      "contradiction: 1690\n",
      "\n",
      "Count of Each Retrieved Passage Entailment Type (average per top 10 claims):\n",
      "entailment: 1.146263221779088\n",
      "contradiction: 2.882434541355991\n",
      "neutral: 5.971302236864921\n"
     ]
    }
   ],
   "source": [
    "analyze_results(\"results_contriever_fine_tuned_bart.json\")"
   ]
  },
  {
   "cell_type": "code",
   "execution_count": 1,
   "metadata": {},
   "outputs": [],
   "source": [
    "import pandas as pd\n",
    "\n",
    "# Data to be written to the CSV\n",
    "data = {\n",
    "    \"Model\": [\"DPR\", \"Contriever\", \"BM25\", \"Contriever Fine-Tuned\"],\n",
    "    \"Overall Accuracy (%)\": [43.32, 62.68, 66.25, 73.94],\n",
    "    \"True Accuracy (%)\": [13.24, 30.87, 34.09, 64.15],\n",
    "    \"Percentage of Time Target Passage is in Top 10 (%)\": [17.46, 41.61, 45.10, 94.24],\n",
    "    \"Accuracy for Gold Entailment (%)\": [72.78, 72.78, 72.78, 72.78],\n",
    "    \"Percentage of Time Gold Entailment Differs from Claim Results (%)\": [46.51, 31.53, 29.77, 13.24],\n",
    "    \"Count of Each Target Entailment (Entailment)\": [8941, 8941, 8941, 8941],\n",
    "    \"Count of Each Target Entailment (Contradiction)\": [2593, 2593, 2593, 2593],\n",
    "    \"Count of Each Gold Entailment Type (Entailment)\": [7358, 7358, 7358, 7358],\n",
    "    \"Count of Each Gold Entailment Type (Neutral)\": [2486, 2486, 2486, 2486],\n",
    "    \"Count of Each Gold Entailment Type (Contradiction)\": [1690, 1690, 1690, 1690],\n",
    "    \"Count of Each Retrieved Passage Entailment Type (Average per top 10 claims) (Entailment)\": [0.5273, 1.2242, 1.2895, 1.1463],\n",
    "    \"Count of Each Retrieved Passage Entailment Type (Average per top 10 claims) (Neutral)\": [6.2495, 4.9267, 5.0252, 5.9713],\n",
    "    \"Count of Each Retrieved Passage Entailment Type (Average per top 10 claims) (Contradiction)\": [3.2232, 3.8491, 3.6853, 2.8824]\n",
    "}\n",
    "\n",
    "# Creating DataFrame\n",
    "df = pd.DataFrame(data)\n",
    "\n",
    "# Saving DataFrame to CSV\n",
    "df.to_csv('retrieval_models_comparison.csv', index=False)\n"
   ]
  },
  {
   "cell_type": "code",
   "execution_count": null,
   "metadata": {},
   "outputs": [],
   "source": []
  }
 ],
 "metadata": {
  "kernelspec": {
   "display_name": "nlp",
   "language": "python",
   "name": "python3"
  },
  "language_info": {
   "codemirror_mode": {
    "name": "ipython",
    "version": 3
   },
   "file_extension": ".py",
   "mimetype": "text/x-python",
   "name": "python",
   "nbconvert_exporter": "python",
   "pygments_lexer": "ipython3",
   "version": "undefined.undefined.undefined"
  }
 },
 "nbformat": 4,
 "nbformat_minor": 2
}
